{
 "cells": [
  {
   "cell_type": "code",
   "execution_count": 1,
   "metadata": {},
   "outputs": [],
   "source": [
    "import json\n",
    "import numpy as np\n",
    "from sklearn.model_selection import StratifiedGroupKFold\n",
    "import pandas as pd\n",
    "# load json: modify the path to your own ‘train.json’ file"
   ]
  },
  {
   "cell_type": "code",
   "execution_count": 2,
   "metadata": {},
   "outputs": [],
   "source": [
    "seed = 411\n",
    "annotation = '../dataset/train.json'\n",
    "\n",
    "with open(annotation) as f: data = json.load(f)\n",
    "\n",
    "var = [(ann['image_id'], ann['category_id']) for ann in data['annotations']]\n",
    "X = np.zeros((len(data['annotations']),1))\n",
    "y = np.array([v[1] for v in var]) # class\n",
    "groups = np.array([v[0] for v in var]) # image\n",
    "cv = StratifiedGroupKFold(n_splits=5, shuffle=True, random_state=seed)"
   ]
  },
  {
   "cell_type": "code",
   "execution_count": 3,
   "metadata": {},
   "outputs": [
    {
     "name": "stdout",
     "output_type": "stream",
     "text": [
      "images_length :  3914 969\n",
      "annotation 18633 4511\n",
      "\n",
      "images_length :  3906 977\n",
      "annotation 18075 5069\n",
      "\n",
      "images_length :  3901 982\n",
      "annotation 18631 4513\n",
      "\n",
      "images_length :  3902 981\n",
      "annotation 18454 4690\n",
      "\n",
      "images_length :  3909 974\n",
      "annotation 18783 4361\n",
      "\n"
     ]
    }
   ],
   "source": [
    "\n",
    "\n",
    "train_data_0_441 = {}\n",
    "val_data_0_411 = {}\n",
    "\n",
    "images = data['images']\n",
    "annotations = data['annotations']\n",
    "image_ids = [x.get('id') for x in images]\n",
    "# var = [(ann['image_id'], ann['category_id']) for ann in data['annotations']]\n",
    "# X = np.zeros((len(data['annotations']),1))\n",
    "# y = np.array([v[1] for v in var]) # class\n",
    "# groups = np.array([v[0] for v in var]) # image\n",
    "\n",
    "for i, (train_idx, val_idx) in enumerate(cv.split(X, y, groups)):\n",
    "    train_y, val_y = y[train_idx], y[val_idx]\n",
    "    train_gr, val_gr = groups[train_idx], groups[val_idx]\n",
    "    print('images_length : ',len(pd.Series(groups[train_idx]).unique()), len(pd.Series(groups[val_idx]).unique()))\n",
    "    print(\"annotation\", len(y[train_idx]), len(y[val_idx]))\n",
    "    print()\n",
    "    # print(\"TRAIN:\", len(groups[train_idx]))\n",
    "    # print(\" \", len(y[train_idx]))\n",
    "    # print(\" TEST:\", len(groups[val_idx]))\n",
    "    # print(\" \", len(y[val_idx]))\n",
    "    \n",
    "    train_images = [x for x in images if x.get('id') in train_gr]\n",
    "    val_images = [x for x in images if x.get('id') in val_gr]\n",
    "    \n",
    "    trian_annos = [x for x in annotations if x.get('image_id') in train_gr]\n",
    "    val_annos = [x for x in annotations if x.get('image_id') in val_gr]\n",
    "\n",
    "    train_data = {\n",
    "        'info' : data['info'],\n",
    "        'licenses' : data['licenses'],\n",
    "        'images' : train_images,\n",
    "        'categories' : data['categories'],\n",
    "        'annotations' : trian_annos\n",
    "                        }\n",
    "    val_data= {\n",
    "        'info' : data['info'],\n",
    "        'licenses' : data['licenses'],\n",
    "        'images' : val_images,\n",
    "        'categories' : data['categories'],\n",
    "        'annotations' : val_annos\n",
    "                        }\n",
    "    with open(f'./cv_strategy/_train_data_fold_{i}_seed_{seed}.json', 'w') as f:\n",
    "        json.dump(train_data, f, indent=4)\n",
    "    with open(f'./cv_strategy/_val_data_fold_{i}_seed_{seed}.json', 'w') as f:\n",
    "        json.dump(val_data, f, indent=4)\n",
    "    # print('나눈 후 train_json_1: ', len(train_json_1['annotations']['image_id']))"
   ]
  },
  {
   "cell_type": "code",
   "execution_count": null,
   "metadata": {},
   "outputs": [],
   "source": []
  }
 ],
 "metadata": {
  "kernelspec": {
   "display_name": "detection",
   "language": "python",
   "name": "detection"
  },
  "language_info": {
   "codemirror_mode": {
    "name": "ipython",
    "version": 3
   },
   "file_extension": ".py",
   "mimetype": "text/x-python",
   "name": "python",
   "nbconvert_exporter": "python",
   "pygments_lexer": "ipython3",
   "version": "3.7.16"
  },
  "orig_nbformat": 4
 },
 "nbformat": 4,
 "nbformat_minor": 2
}
