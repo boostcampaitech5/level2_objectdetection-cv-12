{
 "cells": [
  {
   "cell_type": "code",
   "execution_count": 1,
   "metadata": {},
   "outputs": [
    {
     "name": "stderr",
     "output_type": "stream",
     "text": [
      "/opt/conda/envs/detection/lib/python3.7/site-packages/mmcv/__init__.py:21: UserWarning: On January 1, 2023, MMCV will release v2.0.0, in which it will remove components related to the training process and add a data transformation module. In addition, it will rename the package names mmcv to mmcv-lite and mmcv-full to mmcv. See https://github.com/open-mmlab/mmcv/blob/master/docs/en/compatibility.md for more details.\n",
      "  'On January 1, 2023, MMCV will release v2.0.0, in which it will remove '\n"
     ]
    }
   ],
   "source": [
    "import torch\n",
    "from mmdet.apis import inference_detector, init_detector\n",
    "from mmdet.models import build_detector\n",
    "from mmcv import Config\n",
    "from mmdet.datasets import (build_dataloader, build_dataset,\n",
    "                            replace_ImageToTensor)\n",
    "from mmcv.runner import load_checkpoint\n",
    "import os\n",
    "\n",
    "\n",
    "# Pseudo labeling을 위해 필요한 정보 설정\n",
    "config_file = '/opt/ml/level2_objectdetection-cv-12/mmdetection/configs/_cascadeRCNN_swinL_fold4/final.py'  # 학습에 사용된 모델의 구성 파일\n",
    "cfg = Config.fromfile(config_file)#faster_rcnn_x101_32x4d_fpn_1x_coco\n",
    "\n",
    "checkpoint_path = '/opt/ml/level2_objectdetection-cv-12/mmdetection/work_dirs/swin_base_fold4_v2/best_bbox_mAP_50_epoch_11.pth'  # 학습된 모델의 체크포인트 파일\n",
    "data_root = '/opt/ml/dataset'  # COCO 데이터셋의 루트 디렉토리\n",
    "\n",
    "# COCO 데이터셋의 클래스 이름\n",
    "classes = (\"General trash\", \"Paper\", \"Paper pack\", \"Metal\", \"Glass\", \n",
    "           \"Plastic\", \"Styrofoam\", \"Plastic bag\", \"Battery\", \"Clothing\")\n",
    "\n"
   ]
  },
  {
   "cell_type": "code",
   "execution_count": 2,
   "metadata": {},
   "outputs": [
    {
     "name": "stdout",
     "output_type": "stream",
     "text": [
      "loading annotations into memory...\n",
      "Done (t=0.01s)\n",
      "creating index...\n",
      "index created!\n",
      "load checkpoint from local path: /opt/ml/level2_objectdetection-cv-12/mmdetection/work_dirs/swin_base_fold4_v2/best_bbox_mAP_50_epoch_11.pth\n"
     ]
    },
    {
     "name": "stderr",
     "output_type": "stream",
     "text": [
      "/opt/ml/level2_objectdetection-cv-12/mmdetection/mmdet/apis/inference.py:51: UserWarning: Class names are not saved in the checkpoint's meta data, use COCO classes by default.\n",
      "  warnings.warn('Class names are not saved in the checkpoint\\'s '\n"
     ]
    },
    {
     "name": "stdout",
     "output_type": "stream",
     "text": [
      "load checkpoint from local path: /opt/ml/level2_objectdetection-cv-12/mmdetection/work_dirs/swin_base_fold4_v2/best_bbox_mAP_50_epoch_11.pth\n"
     ]
    }
   ],
   "source": [
    "dataset = build_dataset(cfg.data.test)\n",
    "data_loader = build_dataloader(\n",
    "        dataset,\n",
    "        samples_per_gpu=1,\n",
    "        workers_per_gpu=cfg.data.workers_per_gpu,\n",
    "        dist=False,\n",
    "        shuffle=False)\n",
    "\n",
    "model = init_detector(config_file, checkpoint_path, device='cuda:0')\n",
    "checkpoint = load_checkpoint(model, checkpoint_path, map_location='cpu') # ckpt load"
   ]
  },
  {
   "cell_type": "code",
   "execution_count": 4,
   "metadata": {},
   "outputs": [
    {
     "name": "stdout",
     "output_type": "stream",
     "text": [
      "completed\n"
     ]
    }
   ],
   "source": [
    "\n",
    "from pycocotools.coco import COCO\n",
    "import json\n",
    "\n",
    "annotation = '/opt/ml/level2_objectdetection-cv-12/mmdetection/inference_json/test_addbbox.json'\n",
    "with open(annotation) as f: data = json.load(f)\n",
    "image_ids = []\n",
    "class_name = []\n",
    "class_id = []\n",
    "x_min = []\n",
    "y_min = []\n",
    "x_max = []\n",
    "y_max = []\n",
    "classes = [\"General trash\", \"Paper\", \"Paper pack\", \"Metal\", \"Glass\", \"Plastic\", \"Styrofoam\", \"Plastic bag\", \"Battery\", \"Clothing\"]\n",
    "\n",
    "train_annos = []\n",
    "bbox_id = 0\n",
    "\n",
    "annotations = data['annotations']\n",
    "\n",
    "for ann in annotations : \n",
    "    # if ann['score'] < 0.5:\n",
    "        # continue\n",
    "    ann['id'] = bbox_id\n",
    "    x, y, w, h = ann['bbox'] \n",
    "    x = round(x, 1)\n",
    "    y = round(y, 1)\n",
    "    w = round(w, 1)\n",
    "    h = round(h, 1)\n",
    "    bbox_ = [x, y, w, h]\n",
    "    ann['bbox'] = bbox_\n",
    "    ann['area'] = w*h\n",
    "    ann['score'] = round(ann['score'], 3)\n",
    "\n",
    "    train_annos.append(ann)\n",
    "\n",
    "    bbox_id+=1\n",
    "\n",
    "train_data = {\n",
    "    'info' : data['info'],\n",
    "    'licenses' : data['licenses'],\n",
    "    'images' : data['images'],\n",
    "    'categories' : data['categories'],\n",
    "    'annotations' : train_annos\n",
    "                    }\n",
    "with open(f'/opt/ml/level2_objectdetection-cv-12/mmdetection/inference_json/swinB_fold4.bbox_addid.json', 'w') as f:\n",
    "    json.dump(train_data, f, indent=4)\n",
    "print('completed')\n"
   ]
  }
 ],
 "metadata": {
  "kernelspec": {
   "display_name": "detection",
   "language": "python",
   "name": "detection"
  },
  "language_info": {
   "codemirror_mode": {
    "name": "ipython",
    "version": 3
   },
   "file_extension": ".py",
   "mimetype": "text/x-python",
   "name": "python",
   "nbconvert_exporter": "python",
   "pygments_lexer": "ipython3",
   "version": "3.7.16"
  },
  "orig_nbformat": 4
 },
 "nbformat": 4,
 "nbformat_minor": 2
}
